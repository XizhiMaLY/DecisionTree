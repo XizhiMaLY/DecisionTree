{
 "cells": [
  {
   "attachments": {},
   "cell_type": "markdown",
   "metadata": {},
   "source": [
    "This notebook explore the examples of package DT, including regression tree and classification tree."
   ]
  },
  {
   "cell_type": "code",
   "execution_count": 1,
   "metadata": {},
   "outputs": [],
   "source": [
    "from DT.dtree import *\n",
    "from sklearn.datasets import load_iris\n",
    "from sklearn.model_selection import train_test_split\n",
    "import numpy as np\n",
    "import pandas as pd\n",
    "from sklearn.metrics import r2_score"
   ]
  },
  {
   "attachments": {},
   "cell_type": "markdown",
   "metadata": {},
   "source": [
    "# Regression Tree"
   ]
  },
  {
   "attachments": {},
   "cell_type": "markdown",
   "metadata": {},
   "source": [
    "## 1"
   ]
  },
  {
   "cell_type": "code",
   "execution_count": 2,
   "metadata": {},
   "outputs": [],
   "source": [
    "# get data\n",
    "X = np.array([[1, 1], [1, 2], [2, 2], [2, 3]])\n",
    "y = np.dot(X, np.array([1, 2])) + 3\n",
    "# normalize(X) For Tree model, You don't need to normalize it.\n",
    "# create model\n",
    "model = RegressionTree621()\n",
    "# fit model\n",
    "model.fit(X, y)\n",
    "# get predictions\n",
    "y_pred = model.predict(X)"
   ]
  },
  {
   "cell_type": "code",
   "execution_count": 3,
   "metadata": {},
   "outputs": [
    {
     "data": {
      "text/plain": [
       "array([ 6.,  8.,  9., 11.])"
      ]
     },
     "execution_count": 3,
     "metadata": {},
     "output_type": "execute_result"
    }
   ],
   "source": [
    "y_pred"
   ]
  },
  {
   "cell_type": "code",
   "execution_count": 4,
   "metadata": {},
   "outputs": [
    {
     "data": {
      "text/plain": [
       "array([ 6,  8,  9, 11])"
      ]
     },
     "execution_count": 4,
     "metadata": {},
     "output_type": "execute_result"
    }
   ],
   "source": [
    "y"
   ]
  },
  {
   "attachments": {},
   "cell_type": "markdown",
   "metadata": {},
   "source": [
    "## 2"
   ]
  },
  {
   "cell_type": "code",
   "execution_count": 5,
   "metadata": {},
   "outputs": [
    {
     "data": {
      "text/plain": [
       "1.0"
      ]
     },
     "execution_count": 5,
     "metadata": {},
     "output_type": "execute_result"
    }
   ],
   "source": [
    "def synthetic_data():\n",
    "    \"\"\"\n",
    "    X:[0, 10]\n",
    "    y = X + standard normal distribution, [0, 10]\n",
    "    \"\"\"\n",
    "    n = 1000\n",
    "    df = pd.DataFrame()\n",
    "    df['x'] = np.linspace(0, 10, num=n)\n",
    "    df['y'] = df['x'] + np.random.normal(0, 1, size=n)\n",
    "    X = df['x'].values\n",
    "    y = df['y'].values\n",
    "    X = X.reshape(-1, 1)\n",
    "    y = y.reshape(-1, 1)\n",
    "    return X, y\n",
    "X, y = synthetic_data()\n",
    "# normalize(X) For Tree model, You don't need to normalize it.\n",
    "\n",
    "# create model\n",
    "model = RegressionTree621()\n",
    "# fit model\n",
    "model.fit(X, y)\n",
    "# get predictions\n",
    "y_pred = model.predict(X)\n",
    "r2 = r2_score(y, y_pred)\n",
    "r2"
   ]
  },
  {
   "attachments": {},
   "cell_type": "markdown",
   "metadata": {},
   "source": [
    "# Classification Tree"
   ]
  },
  {
   "cell_type": "code",
   "execution_count": 7,
   "metadata": {},
   "outputs": [
    {
     "name": "stdout",
     "output_type": "stream",
     "text": [
      "correct rate: 1.0\n"
     ]
    }
   ],
   "source": [
    "X, y = load_iris(return_X_y=True)\n",
    "# X, y = X[y<=1], y[y<=1] # here we can use mutiple labels\n",
    "# normalize(X) For Tree model, You don't need to normalize it.\n",
    "\n",
    "# create model\n",
    "model = RegressionTree621()\n",
    "# fit model\n",
    "model.fit(X, y)\n",
    "# get predictions\n",
    "y_pred = model.predict(X)\n",
    "\n",
    "ans = (np.sum(model.predict(X)==y))\n",
    "print(\"correct rate: {}\".format(ans/len(y)))"
   ]
  },
  {
   "cell_type": "code",
   "execution_count": null,
   "metadata": {},
   "outputs": [],
   "source": []
  }
 ],
 "metadata": {
  "kernelspec": {
   "display_name": "ML_lab",
   "language": "python",
   "name": "python3"
  },
  "language_info": {
   "codemirror_mode": {
    "name": "ipython",
    "version": 3
   },
   "file_extension": ".py",
   "mimetype": "text/x-python",
   "name": "python",
   "nbconvert_exporter": "python",
   "pygments_lexer": "ipython3",
   "version": "3.9.16"
  },
  "orig_nbformat": 4
 },
 "nbformat": 4,
 "nbformat_minor": 2
}
